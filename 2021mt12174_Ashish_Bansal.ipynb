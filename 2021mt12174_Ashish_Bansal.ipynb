{
 "cells": [
  {
   "cell_type": "raw",
   "id": "d2b31b3a",
   "metadata": {},
   "source": [
    "Get the dataSetup\n",
    "\n",
    "First, let's import a few common modules, ensure MatplotLib plots figures inline and prepare a function to save the figures. We also check that Python 3.5 or later is installed (although Python 2.x may work, it is deprecated, so we use Python 3 instead), as well as Scikit-Learn ≥0.20."
   ]
  },
  {
   "cell_type": "code",
   "execution_count": null,
   "id": "e9413fea",
   "metadata": {},
   "outputs": [],
   "source": [
    "# Python ≥3.5 is required\n",
    "import sys\n",
    "assert sys.version_info >= (3, 5)\n",
    "\n",
    "# Scikit-Learn ≥0.20 is required\n",
    "import sklearn\n",
    "assert sklearn.__version__ >= \"0.20\"\n",
    "\n",
    "# Common imports\n",
    "import numpy as np\n",
    "import os\n",
    "\n",
    "# To plot pretty figures\n",
    "%matplotlib inline\n",
    "import matplotlib as mpl\n",
    "import matplotlib.pyplot as plt\n",
    "mpl.rc('axes', labelsize=14)\n",
    "mpl.rc('xtick', labelsize=12)\n",
    "mpl.rc('ytick', labelsize=12)\n",
    "\n",
    "# Where to save the figures\n",
    "PROJECT_ROOT_DIR = \".\"\n",
    "CHAPTER_ID = \"end_to_end_project\"\n",
    "IMAGES_PATH = os.path.join(PROJECT_ROOT_DIR, \"images\", CHAPTER_ID)\n",
    "os.makedirs(IMAGES_PATH, exist_ok=True)\n",
    "\n",
    "def save_fig(fig_id, tight_layout=True, fig_extension=\"png\", resolution=300):\n",
    "    path = os.path.join(IMAGES_PATH, fig_id + \".\" + fig_extension)\n",
    "    print(\"Saving figure\", fig_id)\n",
    "    if tight_layout:\n",
    "        plt.tight_layout()\n",
    "    plt.savefig(path, format=fig_extension, dpi=resolution)\n",
    "\n",
    "# Ignore useless warnings (see SciPy issue #5998)\n",
    "import warnings\n",
    "warnings.filterwarnings(action=\"ignore\", message=\"^internal gelsd\")"
   ]
  },
  {
   "cell_type": "markdown",
   "id": "d566c49a",
   "metadata": {},
   "source": [
    "# Get the data"
   ]
  },
  {
   "cell_type": "code",
   "execution_count": 2,
   "id": "f5fd4e05",
   "metadata": {},
   "outputs": [],
   "source": [
    "import os\n",
    "import pandas as pd\n",
    "\n",
    "DATASET_PATH = os.path.join(\"./datasets\", \"heart_attack_dataset\")\n",
    "\n",
    "def load_data(path=DATASET_PATH):\n",
    "    csv_path = os.path.join(path, \"Heart_Attack_Analysis_Data.csv\")\n",
    "    return pd.read_csv(csv_path)"
   ]
  },
  {
   "cell_type": "code",
   "execution_count": 3,
   "id": "dbd11ca5",
   "metadata": {},
   "outputs": [
    {
     "data": {
      "text/html": [
       "<div>\n",
       "<style scoped>\n",
       "    .dataframe tbody tr th:only-of-type {\n",
       "        vertical-align: middle;\n",
       "    }\n",
       "\n",
       "    .dataframe tbody tr th {\n",
       "        vertical-align: top;\n",
       "    }\n",
       "\n",
       "    .dataframe thead th {\n",
       "        text-align: right;\n",
       "    }\n",
       "</style>\n",
       "<table border=\"1\" class=\"dataframe\">\n",
       "  <thead>\n",
       "    <tr style=\"text-align: right;\">\n",
       "      <th></th>\n",
       "      <th>Age</th>\n",
       "      <th>Sex</th>\n",
       "      <th>CP_Type</th>\n",
       "      <th>BloodPressure</th>\n",
       "      <th>Cholestrol</th>\n",
       "      <th>BloodSugar</th>\n",
       "      <th>ECG</th>\n",
       "      <th>MaxHeartRate</th>\n",
       "      <th>ExerciseAngina</th>\n",
       "      <th>FamilyHistory</th>\n",
       "      <th>Target</th>\n",
       "    </tr>\n",
       "  </thead>\n",
       "  <tbody>\n",
       "    <tr>\n",
       "      <th>0</th>\n",
       "      <td>63</td>\n",
       "      <td>1</td>\n",
       "      <td>3</td>\n",
       "      <td>145</td>\n",
       "      <td>233</td>\n",
       "      <td>1</td>\n",
       "      <td>0</td>\n",
       "      <td>150</td>\n",
       "      <td>0</td>\n",
       "      <td>2</td>\n",
       "      <td>1</td>\n",
       "    </tr>\n",
       "    <tr>\n",
       "      <th>1</th>\n",
       "      <td>37</td>\n",
       "      <td>1</td>\n",
       "      <td>2</td>\n",
       "      <td>130</td>\n",
       "      <td>250</td>\n",
       "      <td>0</td>\n",
       "      <td>1</td>\n",
       "      <td>187</td>\n",
       "      <td>0</td>\n",
       "      <td>1</td>\n",
       "      <td>1</td>\n",
       "    </tr>\n",
       "    <tr>\n",
       "      <th>2</th>\n",
       "      <td>41</td>\n",
       "      <td>0</td>\n",
       "      <td>1</td>\n",
       "      <td>130</td>\n",
       "      <td>204</td>\n",
       "      <td>0</td>\n",
       "      <td>0</td>\n",
       "      <td>172</td>\n",
       "      <td>0</td>\n",
       "      <td>0</td>\n",
       "      <td>1</td>\n",
       "    </tr>\n",
       "    <tr>\n",
       "      <th>3</th>\n",
       "      <td>56</td>\n",
       "      <td>1</td>\n",
       "      <td>1</td>\n",
       "      <td>120</td>\n",
       "      <td>236</td>\n",
       "      <td>0</td>\n",
       "      <td>1</td>\n",
       "      <td>178</td>\n",
       "      <td>0</td>\n",
       "      <td>1</td>\n",
       "      <td>1</td>\n",
       "    </tr>\n",
       "    <tr>\n",
       "      <th>4</th>\n",
       "      <td>57</td>\n",
       "      <td>0</td>\n",
       "      <td>0</td>\n",
       "      <td>120</td>\n",
       "      <td>354</td>\n",
       "      <td>0</td>\n",
       "      <td>1</td>\n",
       "      <td>163</td>\n",
       "      <td>1</td>\n",
       "      <td>0</td>\n",
       "      <td>1</td>\n",
       "    </tr>\n",
       "  </tbody>\n",
       "</table>\n",
       "</div>"
      ],
      "text/plain": [
       "   Age  Sex  CP_Type  BloodPressure  Cholestrol  BloodSugar  ECG  \\\n",
       "0   63    1        3            145         233           1    0   \n",
       "1   37    1        2            130         250           0    1   \n",
       "2   41    0        1            130         204           0    0   \n",
       "3   56    1        1            120         236           0    1   \n",
       "4   57    0        0            120         354           0    1   \n",
       "\n",
       "   MaxHeartRate  ExerciseAngina  FamilyHistory  Target  \n",
       "0           150               0              2       1  \n",
       "1           187               0              1       1  \n",
       "2           172               0              0       1  \n",
       "3           178               0              1       1  \n",
       "4           163               1              0       1  "
      ]
     },
     "execution_count": 3,
     "metadata": {},
     "output_type": "execute_result"
    }
   ],
   "source": [
    "heart_condition = load_data()\n",
    "heart_condition.head()"
   ]
  },
  {
   "cell_type": "code",
   "execution_count": 4,
   "id": "21ae28ba",
   "metadata": {},
   "outputs": [
    {
     "name": "stdout",
     "output_type": "stream",
     "text": [
      "<class 'pandas.core.frame.DataFrame'>\n",
      "RangeIndex: 303 entries, 0 to 302\n",
      "Data columns (total 11 columns):\n",
      " #   Column          Non-Null Count  Dtype\n",
      "---  ------          --------------  -----\n",
      " 0   Age             303 non-null    int64\n",
      " 1   Sex             303 non-null    int64\n",
      " 2   CP_Type         303 non-null    int64\n",
      " 3   BloodPressure   303 non-null    int64\n",
      " 4   Cholestrol      303 non-null    int64\n",
      " 5   BloodSugar      303 non-null    int64\n",
      " 6   ECG             303 non-null    int64\n",
      " 7   MaxHeartRate    303 non-null    int64\n",
      " 8   ExerciseAngina  303 non-null    int64\n",
      " 9   FamilyHistory   303 non-null    int64\n",
      " 10  Target          303 non-null    int64\n",
      "dtypes: int64(11)\n",
      "memory usage: 26.2 KB\n"
     ]
    }
   ],
   "source": [
    "heart_condition.info()"
   ]
  },
  {
   "cell_type": "code",
   "execution_count": 5,
   "id": "9e1ecd02",
   "metadata": {},
   "outputs": [
    {
     "data": {
      "text/html": [
       "<div>\n",
       "<style scoped>\n",
       "    .dataframe tbody tr th:only-of-type {\n",
       "        vertical-align: middle;\n",
       "    }\n",
       "\n",
       "    .dataframe tbody tr th {\n",
       "        vertical-align: top;\n",
       "    }\n",
       "\n",
       "    .dataframe thead th {\n",
       "        text-align: right;\n",
       "    }\n",
       "</style>\n",
       "<table border=\"1\" class=\"dataframe\">\n",
       "  <thead>\n",
       "    <tr style=\"text-align: right;\">\n",
       "      <th></th>\n",
       "      <th>Age</th>\n",
       "      <th>Sex</th>\n",
       "      <th>CP_Type</th>\n",
       "      <th>BloodPressure</th>\n",
       "      <th>Cholestrol</th>\n",
       "      <th>BloodSugar</th>\n",
       "      <th>ECG</th>\n",
       "      <th>MaxHeartRate</th>\n",
       "      <th>ExerciseAngina</th>\n",
       "      <th>FamilyHistory</th>\n",
       "      <th>Target</th>\n",
       "    </tr>\n",
       "  </thead>\n",
       "  <tbody>\n",
       "    <tr>\n",
       "      <th>count</th>\n",
       "      <td>303.000000</td>\n",
       "      <td>303.000000</td>\n",
       "      <td>303.000000</td>\n",
       "      <td>303.000000</td>\n",
       "      <td>303.000000</td>\n",
       "      <td>303.000000</td>\n",
       "      <td>303.000000</td>\n",
       "      <td>303.000000</td>\n",
       "      <td>303.000000</td>\n",
       "      <td>303.000000</td>\n",
       "      <td>303.000000</td>\n",
       "    </tr>\n",
       "    <tr>\n",
       "      <th>mean</th>\n",
       "      <td>54.366337</td>\n",
       "      <td>0.683168</td>\n",
       "      <td>0.966997</td>\n",
       "      <td>131.623762</td>\n",
       "      <td>246.264026</td>\n",
       "      <td>0.148515</td>\n",
       "      <td>0.528053</td>\n",
       "      <td>149.646865</td>\n",
       "      <td>0.326733</td>\n",
       "      <td>1.204620</td>\n",
       "      <td>0.544554</td>\n",
       "    </tr>\n",
       "    <tr>\n",
       "      <th>std</th>\n",
       "      <td>9.082101</td>\n",
       "      <td>0.466011</td>\n",
       "      <td>1.032052</td>\n",
       "      <td>17.538143</td>\n",
       "      <td>51.830751</td>\n",
       "      <td>0.356198</td>\n",
       "      <td>0.525860</td>\n",
       "      <td>22.905161</td>\n",
       "      <td>0.469794</td>\n",
       "      <td>1.096825</td>\n",
       "      <td>0.498835</td>\n",
       "    </tr>\n",
       "    <tr>\n",
       "      <th>min</th>\n",
       "      <td>29.000000</td>\n",
       "      <td>0.000000</td>\n",
       "      <td>0.000000</td>\n",
       "      <td>94.000000</td>\n",
       "      <td>126.000000</td>\n",
       "      <td>0.000000</td>\n",
       "      <td>0.000000</td>\n",
       "      <td>71.000000</td>\n",
       "      <td>0.000000</td>\n",
       "      <td>0.000000</td>\n",
       "      <td>0.000000</td>\n",
       "    </tr>\n",
       "    <tr>\n",
       "      <th>25%</th>\n",
       "      <td>47.500000</td>\n",
       "      <td>0.000000</td>\n",
       "      <td>0.000000</td>\n",
       "      <td>120.000000</td>\n",
       "      <td>211.000000</td>\n",
       "      <td>0.000000</td>\n",
       "      <td>0.000000</td>\n",
       "      <td>133.500000</td>\n",
       "      <td>0.000000</td>\n",
       "      <td>0.000000</td>\n",
       "      <td>0.000000</td>\n",
       "    </tr>\n",
       "    <tr>\n",
       "      <th>50%</th>\n",
       "      <td>55.000000</td>\n",
       "      <td>1.000000</td>\n",
       "      <td>1.000000</td>\n",
       "      <td>130.000000</td>\n",
       "      <td>240.000000</td>\n",
       "      <td>0.000000</td>\n",
       "      <td>1.000000</td>\n",
       "      <td>153.000000</td>\n",
       "      <td>0.000000</td>\n",
       "      <td>1.000000</td>\n",
       "      <td>1.000000</td>\n",
       "    </tr>\n",
       "    <tr>\n",
       "      <th>75%</th>\n",
       "      <td>61.000000</td>\n",
       "      <td>1.000000</td>\n",
       "      <td>2.000000</td>\n",
       "      <td>140.000000</td>\n",
       "      <td>274.500000</td>\n",
       "      <td>0.000000</td>\n",
       "      <td>1.000000</td>\n",
       "      <td>166.000000</td>\n",
       "      <td>1.000000</td>\n",
       "      <td>2.000000</td>\n",
       "      <td>1.000000</td>\n",
       "    </tr>\n",
       "    <tr>\n",
       "      <th>max</th>\n",
       "      <td>77.000000</td>\n",
       "      <td>1.000000</td>\n",
       "      <td>3.000000</td>\n",
       "      <td>200.000000</td>\n",
       "      <td>564.000000</td>\n",
       "      <td>1.000000</td>\n",
       "      <td>2.000000</td>\n",
       "      <td>202.000000</td>\n",
       "      <td>1.000000</td>\n",
       "      <td>5.000000</td>\n",
       "      <td>1.000000</td>\n",
       "    </tr>\n",
       "  </tbody>\n",
       "</table>\n",
       "</div>"
      ],
      "text/plain": [
       "              Age         Sex     CP_Type  BloodPressure  Cholestrol  \\\n",
       "count  303.000000  303.000000  303.000000     303.000000  303.000000   \n",
       "mean    54.366337    0.683168    0.966997     131.623762  246.264026   \n",
       "std      9.082101    0.466011    1.032052      17.538143   51.830751   \n",
       "min     29.000000    0.000000    0.000000      94.000000  126.000000   \n",
       "25%     47.500000    0.000000    0.000000     120.000000  211.000000   \n",
       "50%     55.000000    1.000000    1.000000     130.000000  240.000000   \n",
       "75%     61.000000    1.000000    2.000000     140.000000  274.500000   \n",
       "max     77.000000    1.000000    3.000000     200.000000  564.000000   \n",
       "\n",
       "       BloodSugar         ECG  MaxHeartRate  ExerciseAngina  FamilyHistory  \\\n",
       "count  303.000000  303.000000    303.000000      303.000000     303.000000   \n",
       "mean     0.148515    0.528053    149.646865        0.326733       1.204620   \n",
       "std      0.356198    0.525860     22.905161        0.469794       1.096825   \n",
       "min      0.000000    0.000000     71.000000        0.000000       0.000000   \n",
       "25%      0.000000    0.000000    133.500000        0.000000       0.000000   \n",
       "50%      0.000000    1.000000    153.000000        0.000000       1.000000   \n",
       "75%      0.000000    1.000000    166.000000        1.000000       2.000000   \n",
       "max      1.000000    2.000000    202.000000        1.000000       5.000000   \n",
       "\n",
       "           Target  \n",
       "count  303.000000  \n",
       "mean     0.544554  \n",
       "std      0.498835  \n",
       "min      0.000000  \n",
       "25%      0.000000  \n",
       "50%      1.000000  \n",
       "75%      1.000000  \n",
       "max      1.000000  "
      ]
     },
     "execution_count": 5,
     "metadata": {},
     "output_type": "execute_result"
    }
   ],
   "source": [
    "heart_condition.describe()"
   ]
  },
  {
   "cell_type": "markdown",
   "id": "ca862539",
   "metadata": {},
   "source": [
    "# Data Pre-processing"
   ]
  },
  {
   "cell_type": "raw",
   "id": "a18c7f4c",
   "metadata": {},
   "source": [
    "We perform the following steps:\n",
    "\n",
    "Determine number of null values in the dataset.\n",
    "ECG value '2' is an wrong value. Change it to '1', as ECG is a binary categorical variable.\n",
    "Convert Sex, CP_Type, BloodSugar, ECG, ExerciseAngina into categorical type from int type.\n",
    "Perform One Hot Encoding on the column CP_Type\n",
    "Remove duplicate rows"
   ]
  },
  {
   "cell_type": "code",
   "execution_count": 6,
   "id": "0e55233a",
   "metadata": {},
   "outputs": [
    {
     "data": {
      "text/plain": [
       "Age               0\n",
       "Sex               0\n",
       "CP_Type           0\n",
       "BloodPressure     0\n",
       "Cholestrol        0\n",
       "BloodSugar        0\n",
       "ECG               0\n",
       "MaxHeartRate      0\n",
       "ExerciseAngina    0\n",
       "FamilyHistory     0\n",
       "Target            0\n",
       "dtype: int64"
      ]
     },
     "execution_count": 6,
     "metadata": {},
     "output_type": "execute_result"
    }
   ],
   "source": [
    "# 1. Count of null values in dataset\n",
    "heart_condition.isnull().sum()"
   ]
  },
  {
   "cell_type": "code",
   "execution_count": 7,
   "id": "528b5577",
   "metadata": {},
   "outputs": [
    {
     "data": {
      "text/html": [
       "<div>\n",
       "<style scoped>\n",
       "    .dataframe tbody tr th:only-of-type {\n",
       "        vertical-align: middle;\n",
       "    }\n",
       "\n",
       "    .dataframe tbody tr th {\n",
       "        vertical-align: top;\n",
       "    }\n",
       "\n",
       "    .dataframe thead th {\n",
       "        text-align: right;\n",
       "    }\n",
       "</style>\n",
       "<table border=\"1\" class=\"dataframe\">\n",
       "  <thead>\n",
       "    <tr style=\"text-align: right;\">\n",
       "      <th></th>\n",
       "      <th>Age</th>\n",
       "      <th>Sex</th>\n",
       "      <th>CP_Type</th>\n",
       "      <th>BloodPressure</th>\n",
       "      <th>Cholestrol</th>\n",
       "      <th>BloodSugar</th>\n",
       "      <th>ECG</th>\n",
       "      <th>MaxHeartRate</th>\n",
       "      <th>ExerciseAngina</th>\n",
       "      <th>FamilyHistory</th>\n",
       "      <th>Target</th>\n",
       "    </tr>\n",
       "  </thead>\n",
       "  <tbody>\n",
       "    <tr>\n",
       "      <th>count</th>\n",
       "      <td>303.000000</td>\n",
       "      <td>303.000000</td>\n",
       "      <td>303.000000</td>\n",
       "      <td>303.000000</td>\n",
       "      <td>303.000000</td>\n",
       "      <td>303.000000</td>\n",
       "      <td>303.000000</td>\n",
       "      <td>303.000000</td>\n",
       "      <td>303.000000</td>\n",
       "      <td>303.000000</td>\n",
       "      <td>303.000000</td>\n",
       "    </tr>\n",
       "    <tr>\n",
       "      <th>mean</th>\n",
       "      <td>54.366337</td>\n",
       "      <td>0.683168</td>\n",
       "      <td>0.966997</td>\n",
       "      <td>131.623762</td>\n",
       "      <td>246.264026</td>\n",
       "      <td>0.148515</td>\n",
       "      <td>0.514851</td>\n",
       "      <td>149.646865</td>\n",
       "      <td>0.326733</td>\n",
       "      <td>1.204620</td>\n",
       "      <td>0.544554</td>\n",
       "    </tr>\n",
       "    <tr>\n",
       "      <th>std</th>\n",
       "      <td>9.082101</td>\n",
       "      <td>0.466011</td>\n",
       "      <td>1.032052</td>\n",
       "      <td>17.538143</td>\n",
       "      <td>51.830751</td>\n",
       "      <td>0.356198</td>\n",
       "      <td>0.500606</td>\n",
       "      <td>22.905161</td>\n",
       "      <td>0.469794</td>\n",
       "      <td>1.096825</td>\n",
       "      <td>0.498835</td>\n",
       "    </tr>\n",
       "    <tr>\n",
       "      <th>min</th>\n",
       "      <td>29.000000</td>\n",
       "      <td>0.000000</td>\n",
       "      <td>0.000000</td>\n",
       "      <td>94.000000</td>\n",
       "      <td>126.000000</td>\n",
       "      <td>0.000000</td>\n",
       "      <td>0.000000</td>\n",
       "      <td>71.000000</td>\n",
       "      <td>0.000000</td>\n",
       "      <td>0.000000</td>\n",
       "      <td>0.000000</td>\n",
       "    </tr>\n",
       "    <tr>\n",
       "      <th>25%</th>\n",
       "      <td>47.500000</td>\n",
       "      <td>0.000000</td>\n",
       "      <td>0.000000</td>\n",
       "      <td>120.000000</td>\n",
       "      <td>211.000000</td>\n",
       "      <td>0.000000</td>\n",
       "      <td>0.000000</td>\n",
       "      <td>133.500000</td>\n",
       "      <td>0.000000</td>\n",
       "      <td>0.000000</td>\n",
       "      <td>0.000000</td>\n",
       "    </tr>\n",
       "    <tr>\n",
       "      <th>50%</th>\n",
       "      <td>55.000000</td>\n",
       "      <td>1.000000</td>\n",
       "      <td>1.000000</td>\n",
       "      <td>130.000000</td>\n",
       "      <td>240.000000</td>\n",
       "      <td>0.000000</td>\n",
       "      <td>1.000000</td>\n",
       "      <td>153.000000</td>\n",
       "      <td>0.000000</td>\n",
       "      <td>1.000000</td>\n",
       "      <td>1.000000</td>\n",
       "    </tr>\n",
       "    <tr>\n",
       "      <th>75%</th>\n",
       "      <td>61.000000</td>\n",
       "      <td>1.000000</td>\n",
       "      <td>2.000000</td>\n",
       "      <td>140.000000</td>\n",
       "      <td>274.500000</td>\n",
       "      <td>0.000000</td>\n",
       "      <td>1.000000</td>\n",
       "      <td>166.000000</td>\n",
       "      <td>1.000000</td>\n",
       "      <td>2.000000</td>\n",
       "      <td>1.000000</td>\n",
       "    </tr>\n",
       "    <tr>\n",
       "      <th>max</th>\n",
       "      <td>77.000000</td>\n",
       "      <td>1.000000</td>\n",
       "      <td>3.000000</td>\n",
       "      <td>200.000000</td>\n",
       "      <td>564.000000</td>\n",
       "      <td>1.000000</td>\n",
       "      <td>1.000000</td>\n",
       "      <td>202.000000</td>\n",
       "      <td>1.000000</td>\n",
       "      <td>5.000000</td>\n",
       "      <td>1.000000</td>\n",
       "    </tr>\n",
       "  </tbody>\n",
       "</table>\n",
       "</div>"
      ],
      "text/plain": [
       "              Age         Sex     CP_Type  BloodPressure  Cholestrol  \\\n",
       "count  303.000000  303.000000  303.000000     303.000000  303.000000   \n",
       "mean    54.366337    0.683168    0.966997     131.623762  246.264026   \n",
       "std      9.082101    0.466011    1.032052      17.538143   51.830751   \n",
       "min     29.000000    0.000000    0.000000      94.000000  126.000000   \n",
       "25%     47.500000    0.000000    0.000000     120.000000  211.000000   \n",
       "50%     55.000000    1.000000    1.000000     130.000000  240.000000   \n",
       "75%     61.000000    1.000000    2.000000     140.000000  274.500000   \n",
       "max     77.000000    1.000000    3.000000     200.000000  564.000000   \n",
       "\n",
       "       BloodSugar         ECG  MaxHeartRate  ExerciseAngina  FamilyHistory  \\\n",
       "count  303.000000  303.000000    303.000000      303.000000     303.000000   \n",
       "mean     0.148515    0.514851    149.646865        0.326733       1.204620   \n",
       "std      0.356198    0.500606     22.905161        0.469794       1.096825   \n",
       "min      0.000000    0.000000     71.000000        0.000000       0.000000   \n",
       "25%      0.000000    0.000000    133.500000        0.000000       0.000000   \n",
       "50%      0.000000    1.000000    153.000000        0.000000       1.000000   \n",
       "75%      0.000000    1.000000    166.000000        1.000000       2.000000   \n",
       "max      1.000000    1.000000    202.000000        1.000000       5.000000   \n",
       "\n",
       "           Target  \n",
       "count  303.000000  \n",
       "mean     0.544554  \n",
       "std      0.498835  \n",
       "min      0.000000  \n",
       "25%      0.000000  \n",
       "50%      1.000000  \n",
       "75%      1.000000  \n",
       "max      1.000000  "
      ]
     },
     "execution_count": 7,
     "metadata": {},
     "output_type": "execute_result"
    }
   ],
   "source": [
    "# Changing ECG=2 to ECG=1\n",
    "heart_condition.loc[heart_condition['ECG'] == 2, 'ECG'] = 1\n",
    "heart_condition.describe()"
   ]
  },
  {
   "cell_type": "code",
   "execution_count": 8,
   "id": "7a0d2116",
   "metadata": {},
   "outputs": [
    {
     "data": {
      "text/plain": [
       "Age                  int64\n",
       "Sex               category\n",
       "CP_Type           category\n",
       "BloodPressure        int64\n",
       "Cholestrol           int64\n",
       "BloodSugar        category\n",
       "ECG               category\n",
       "MaxHeartRate         int64\n",
       "ExerciseAngina    category\n",
       "FamilyHistory        int64\n",
       "Target               int64\n",
       "dtype: object"
      ]
     },
     "execution_count": 8,
     "metadata": {},
     "output_type": "execute_result"
    }
   ],
   "source": [
    "# 2. Typecast to Categorical columns in pandas\n",
    "heart_condition['Sex'] = pd.Categorical(heart_condition.Sex)\n",
    "heart_condition['CP_Type'] = pd.Categorical(heart_condition.CP_Type)\n",
    "heart_condition['BloodSugar'] = pd.Categorical(heart_condition.BloodSugar)\n",
    "heart_condition['ECG'] = pd.Categorical(heart_condition.ECG)\n",
    "heart_condition['ExerciseAngina'] = pd.Categorical(heart_condition.ExerciseAngina)\n",
    "heart_condition.dtypes"
   ]
  },
  {
   "cell_type": "code",
   "execution_count": 9,
   "id": "134145df",
   "metadata": {},
   "outputs": [
    {
     "name": "stdout",
     "output_type": "stream",
     "text": [
      "     Age Sex  BloodPressure  Cholestrol BloodSugar ECG  MaxHeartRate  \\\n",
      "0     63   1            145         233          1   0           150   \n",
      "1     37   1            130         250          0   1           187   \n",
      "2     41   0            130         204          0   0           172   \n",
      "3     56   1            120         236          0   1           178   \n",
      "4     57   0            120         354          0   1           163   \n",
      "..   ...  ..            ...         ...        ...  ..           ...   \n",
      "298   57   0            140         241          0   1           123   \n",
      "299   45   1            110         264          0   1           132   \n",
      "300   68   1            144         193          1   1           141   \n",
      "301   57   1            130         131          0   1           115   \n",
      "302   57   0            130         236          0   0           174   \n",
      "\n",
      "    ExerciseAngina  FamilyHistory  Target  CP_Type_0  CP_Type_1  CP_Type_2  \\\n",
      "0                0              2       1          0          0          0   \n",
      "1                0              1       1          0          0          1   \n",
      "2                0              0       1          0          1          0   \n",
      "3                0              1       1          0          1          0   \n",
      "4                1              0       1          1          0          0   \n",
      "..             ...            ...     ...        ...        ...        ...   \n",
      "298              1              0       0          1          0          0   \n",
      "299              0              0       0          0          0          0   \n",
      "300              0              0       0          1          0          0   \n",
      "301              1              0       0          1          0          0   \n",
      "302              0              0       0          0          1          0   \n",
      "\n",
      "     CP_Type_3  \n",
      "0            1  \n",
      "1            0  \n",
      "2            0  \n",
      "3            0  \n",
      "4            0  \n",
      "..         ...  \n",
      "298          0  \n",
      "299          1  \n",
      "300          0  \n",
      "301          0  \n",
      "302          0  \n",
      "\n",
      "[303 rows x 14 columns]\n"
     ]
    }
   ],
   "source": [
    "# 3. One hot encoding of CP_Type\n",
    "one_hot_encoded_data=pd.get_dummies(heart_condition, columns=['CP_Type'])\n",
    "print(one_hot_encoded_data)\n",
    "heart_condition=one_hot_encoded_data"
   ]
  },
  {
   "cell_type": "code",
   "execution_count": 10,
   "id": "c02f9866",
   "metadata": {},
   "outputs": [
    {
     "name": "stdout",
     "output_type": "stream",
     "text": [
      "<class 'pandas.core.frame.DataFrame'>\n",
      "RangeIndex: 303 entries, 0 to 302\n",
      "Data columns (total 14 columns):\n",
      " #   Column          Non-Null Count  Dtype   \n",
      "---  ------          --------------  -----   \n",
      " 0   Age             303 non-null    int64   \n",
      " 1   Sex             303 non-null    category\n",
      " 2   BloodPressure   303 non-null    int64   \n",
      " 3   Cholestrol      303 non-null    int64   \n",
      " 4   BloodSugar      303 non-null    category\n",
      " 5   ECG             303 non-null    category\n",
      " 6   MaxHeartRate    303 non-null    int64   \n",
      " 7   ExerciseAngina  303 non-null    category\n",
      " 8   FamilyHistory   303 non-null    int64   \n",
      " 9   Target          303 non-null    category\n",
      " 10  CP_Type_0       303 non-null    category\n",
      " 11  CP_Type_1       303 non-null    category\n",
      " 12  CP_Type_2       303 non-null    category\n",
      " 13  CP_Type_3       303 non-null    category\n",
      "dtypes: category(9), int64(5)\n",
      "memory usage: 15.7 KB\n"
     ]
    }
   ],
   "source": [
    "heart_condition['CP_Type_0'] = pd.Categorical(heart_condition.CP_Type_0)\n",
    "heart_condition['CP_Type_1'] = pd.Categorical(heart_condition.CP_Type_1)\n",
    "heart_condition['CP_Type_2'] = pd.Categorical(heart_condition.CP_Type_2)\n",
    "heart_condition['CP_Type_3'] = pd.Categorical(heart_condition.CP_Type_3)\n",
    "heart_condition['Target'] = pd.Categorical(heart_condition.Target)\n",
    "heart_condition.drop_duplicates()\n",
    "heart_condition.info()"
   ]
  },
  {
   "cell_type": "markdown",
   "id": "850c1bed",
   "metadata": {},
   "source": [
    "# Data Summarization"
   ]
  },
  {
   "cell_type": "raw",
   "id": "6e7b92af",
   "metadata": {},
   "source": [
    "We summarize the normalized data for insights using describe() function, outlier determination, and data aggregation functions"
   ]
  },
  {
   "cell_type": "code",
   "execution_count": 11,
   "id": "40b86169",
   "metadata": {},
   "outputs": [
    {
     "data": {
      "text/html": [
       "<div>\n",
       "<style scoped>\n",
       "    .dataframe tbody tr th:only-of-type {\n",
       "        vertical-align: middle;\n",
       "    }\n",
       "\n",
       "    .dataframe tbody tr th {\n",
       "        vertical-align: top;\n",
       "    }\n",
       "\n",
       "    .dataframe thead th {\n",
       "        text-align: right;\n",
       "    }\n",
       "</style>\n",
       "<table border=\"1\" class=\"dataframe\">\n",
       "  <thead>\n",
       "    <tr style=\"text-align: right;\">\n",
       "      <th></th>\n",
       "      <th>Age</th>\n",
       "      <th>BloodPressure</th>\n",
       "      <th>Cholestrol</th>\n",
       "      <th>MaxHeartRate</th>\n",
       "      <th>FamilyHistory</th>\n",
       "    </tr>\n",
       "  </thead>\n",
       "  <tbody>\n",
       "    <tr>\n",
       "      <th>count</th>\n",
       "      <td>303.000000</td>\n",
       "      <td>303.000000</td>\n",
       "      <td>303.000000</td>\n",
       "      <td>303.000000</td>\n",
       "      <td>303.000000</td>\n",
       "    </tr>\n",
       "    <tr>\n",
       "      <th>mean</th>\n",
       "      <td>54.366337</td>\n",
       "      <td>131.623762</td>\n",
       "      <td>246.264026</td>\n",
       "      <td>149.646865</td>\n",
       "      <td>1.204620</td>\n",
       "    </tr>\n",
       "    <tr>\n",
       "      <th>std</th>\n",
       "      <td>9.082101</td>\n",
       "      <td>17.538143</td>\n",
       "      <td>51.830751</td>\n",
       "      <td>22.905161</td>\n",
       "      <td>1.096825</td>\n",
       "    </tr>\n",
       "    <tr>\n",
       "      <th>min</th>\n",
       "      <td>29.000000</td>\n",
       "      <td>94.000000</td>\n",
       "      <td>126.000000</td>\n",
       "      <td>71.000000</td>\n",
       "      <td>0.000000</td>\n",
       "    </tr>\n",
       "    <tr>\n",
       "      <th>25%</th>\n",
       "      <td>47.500000</td>\n",
       "      <td>120.000000</td>\n",
       "      <td>211.000000</td>\n",
       "      <td>133.500000</td>\n",
       "      <td>0.000000</td>\n",
       "    </tr>\n",
       "    <tr>\n",
       "      <th>50%</th>\n",
       "      <td>55.000000</td>\n",
       "      <td>130.000000</td>\n",
       "      <td>240.000000</td>\n",
       "      <td>153.000000</td>\n",
       "      <td>1.000000</td>\n",
       "    </tr>\n",
       "    <tr>\n",
       "      <th>75%</th>\n",
       "      <td>61.000000</td>\n",
       "      <td>140.000000</td>\n",
       "      <td>274.500000</td>\n",
       "      <td>166.000000</td>\n",
       "      <td>2.000000</td>\n",
       "    </tr>\n",
       "    <tr>\n",
       "      <th>max</th>\n",
       "      <td>77.000000</td>\n",
       "      <td>200.000000</td>\n",
       "      <td>564.000000</td>\n",
       "      <td>202.000000</td>\n",
       "      <td>5.000000</td>\n",
       "    </tr>\n",
       "  </tbody>\n",
       "</table>\n",
       "</div>"
      ],
      "text/plain": [
       "              Age  BloodPressure  Cholestrol  MaxHeartRate  FamilyHistory\n",
       "count  303.000000     303.000000  303.000000    303.000000     303.000000\n",
       "mean    54.366337     131.623762  246.264026    149.646865       1.204620\n",
       "std      9.082101      17.538143   51.830751     22.905161       1.096825\n",
       "min     29.000000      94.000000  126.000000     71.000000       0.000000\n",
       "25%     47.500000     120.000000  211.000000    133.500000       0.000000\n",
       "50%     55.000000     130.000000  240.000000    153.000000       1.000000\n",
       "75%     61.000000     140.000000  274.500000    166.000000       2.000000\n",
       "max     77.000000     200.000000  564.000000    202.000000       5.000000"
      ]
     },
     "execution_count": 11,
     "metadata": {},
     "output_type": "execute_result"
    }
   ],
   "source": [
    "# Summarization of normalized data\n",
    "heart_condition.describe()"
   ]
  },
  {
   "cell_type": "code",
   "execution_count": 12,
   "id": "8888afaa",
   "metadata": {},
   "outputs": [
    {
     "name": "stdout",
     "output_type": "stream",
     "text": [
      "Cholestrol IQR = 63.5\n",
      "Values of Cholestrol outside the range ( 115.75 , 306.25 ) are outliers\n",
      "MaxHeartRate IQR = 32.5\n",
      "Values of MaxHeartRate outside the range ( 84.75 , 182.25 ) are outliers\n"
     ]
    }
   ],
   "source": [
    "#Cholestrol Outliers\n",
    "Chol_Q1=heart_condition['Cholestrol'].quantile(0.25)\n",
    "Chol_Q3=heart_condition['Cholestrol'].quantile(0.75)\n",
    "Chol_IQR=Chol_Q3-Chol_Q1\n",
    "print(\"Cholestrol IQR =\",Chol_IQR)\n",
    "Outlier_Low=Chol_Q1-1.5*Chol_IQR\n",
    "Outlier_High=Chol_Q1+1.5*Chol_IQR                                                \n",
    "print(\"Values of Cholestrol outside the range (\",Outlier_Low,\",\",Outlier_High,\") are outliers\")                                                \n",
    "\n",
    "#MaxHeartRate Outliers\n",
    "MHR_Q1=heart_condition['MaxHeartRate'].quantile(0.25)\n",
    "MHR_Q3=heart_condition['MaxHeartRate'].quantile(0.75)\n",
    "MHR_IQR=MHR_Q3-MHR_Q1\n",
    "print(\"MaxHeartRate IQR =\",MHR_IQR)\n",
    "Outlier_Low=MHR_Q1-1.5*MHR_IQR\n",
    "Outlier_High=MHR_Q1+1.5*MHR_IQR                                                \n",
    "print(\"Values of MaxHeartRate outside the range (\",Outlier_Low,\",\",Outlier_High,\") are outliers\")                                 "
   ]
  },
  {
   "cell_type": "code",
   "execution_count": 13,
   "id": "3a60a080",
   "metadata": {},
   "outputs": [
    {
     "data": {
      "text/html": [
       "<div>\n",
       "<style scoped>\n",
       "    .dataframe tbody tr th:only-of-type {\n",
       "        vertical-align: middle;\n",
       "    }\n",
       "\n",
       "    .dataframe tbody tr th {\n",
       "        vertical-align: top;\n",
       "    }\n",
       "\n",
       "    .dataframe thead th {\n",
       "        text-align: right;\n",
       "    }\n",
       "</style>\n",
       "<table border=\"1\" class=\"dataframe\">\n",
       "  <thead>\n",
       "    <tr style=\"text-align: right;\">\n",
       "      <th></th>\n",
       "      <th></th>\n",
       "      <th>Age</th>\n",
       "      <th>BloodPressure</th>\n",
       "      <th>Cholestrol</th>\n",
       "      <th>FamilyHistory</th>\n",
       "      <th>MaxHeartRate</th>\n",
       "    </tr>\n",
       "    <tr>\n",
       "      <th>Sex</th>\n",
       "      <th>Target</th>\n",
       "      <th></th>\n",
       "      <th></th>\n",
       "      <th></th>\n",
       "      <th></th>\n",
       "      <th></th>\n",
       "    </tr>\n",
       "  </thead>\n",
       "  <tbody>\n",
       "    <tr>\n",
       "      <th rowspan=\"2\" valign=\"top\">0</th>\n",
       "      <th>0</th>\n",
       "      <td>59.041667</td>\n",
       "      <td>146.125000</td>\n",
       "      <td>274.958333</td>\n",
       "      <td>1.041667</td>\n",
       "      <td>142.416667</td>\n",
       "    </tr>\n",
       "    <tr>\n",
       "      <th>1</th>\n",
       "      <td>54.555556</td>\n",
       "      <td>128.736111</td>\n",
       "      <td>256.750000</td>\n",
       "      <td>1.277778</td>\n",
       "      <td>154.027778</td>\n",
       "    </tr>\n",
       "    <tr>\n",
       "      <th rowspan=\"2\" valign=\"top\">1</th>\n",
       "      <th>0</th>\n",
       "      <td>56.087719</td>\n",
       "      <td>131.929825</td>\n",
       "      <td>246.061404</td>\n",
       "      <td>1.280702</td>\n",
       "      <td>138.403509</td>\n",
       "    </tr>\n",
       "    <tr>\n",
       "      <th>1</th>\n",
       "      <td>50.903226</td>\n",
       "      <td>129.741935</td>\n",
       "      <td>230.989247</td>\n",
       "      <td>1.096774</td>\n",
       "      <td>161.903226</td>\n",
       "    </tr>\n",
       "  </tbody>\n",
       "</table>\n",
       "</div>"
      ],
      "text/plain": [
       "                  Age  BloodPressure  Cholestrol  FamilyHistory  MaxHeartRate\n",
       "Sex Target                                                                   \n",
       "0   0       59.041667     146.125000  274.958333       1.041667    142.416667\n",
       "    1       54.555556     128.736111  256.750000       1.277778    154.027778\n",
       "1   0       56.087719     131.929825  246.061404       1.280702    138.403509\n",
       "    1       50.903226     129.741935  230.989247       1.096774    161.903226"
      ]
     },
     "execution_count": 13,
     "metadata": {},
     "output_type": "execute_result"
    }
   ],
   "source": [
    "# Multi-index pivot table\n",
    "table=pd.pivot_table(heart_condition,index=['Sex', 'Target'])\n",
    "table"
   ]
  },
  {
   "cell_type": "markdown",
   "id": "c1d5b98d",
   "metadata": {},
   "source": [
    "# Observations from summarized data"
   ]
  },
  {
   "cell_type": "raw",
   "id": "6058d8b8",
   "metadata": {},
   "source": [
    "There are no null values in the dataset.\n",
    "The average age of subjects is 54 years, minimum age is 29 years and maximum age is 77 years.\n",
    "There is a large variance of Cholestrol values of subjects, as maximum is 564 and minimum is 126.\n",
    "The mean Cholestrol value is 246.26 units, while the standard deviation Cholestrol value is 51.83 units.\n",
    "IQR for Cholestrol is 63.5 units. Values of Cholestrol outside the range (115.75, 306.25) are outliers.\n",
    "IQR for MaxHeartRate is 32.5 bpm. Values of MaxHeartRate outside the range (84.75, 182.25) are outliers."
   ]
  },
  {
   "cell_type": "markdown",
   "id": "209cfe58",
   "metadata": {},
   "source": [
    "# Attribute selection for model building"
   ]
  },
  {
   "cell_type": "code",
   "execution_count": null,
   "id": "bc2b5ab5",
   "metadata": {},
   "outputs": [],
   "source": [
    "Identification of relevant, irrelevant attributes for building model"
   ]
  },
  {
   "cell_type": "code",
   "execution_count": 14,
   "id": "6bb1ec56",
   "metadata": {},
   "outputs": [
    {
     "name": "stdout",
     "output_type": "stream",
     "text": [
      "<class 'pandas.core.frame.DataFrame'>\n",
      "RangeIndex: 303 entries, 0 to 302\n",
      "Data columns (total 14 columns):\n",
      " #   Column          Non-Null Count  Dtype   \n",
      "---  ------          --------------  -----   \n",
      " 0   Age             303 non-null    int64   \n",
      " 1   Sex             303 non-null    category\n",
      " 2   BloodPressure   303 non-null    int64   \n",
      " 3   Cholestrol      303 non-null    int64   \n",
      " 4   BloodSugar      303 non-null    category\n",
      " 5   ECG             303 non-null    category\n",
      " 6   MaxHeartRate    303 non-null    int64   \n",
      " 7   ExerciseAngina  303 non-null    category\n",
      " 8   FamilyHistory   303 non-null    int64   \n",
      " 9   Target          303 non-null    category\n",
      " 10  CP_Type_0       303 non-null    category\n",
      " 11  CP_Type_1       303 non-null    category\n",
      " 12  CP_Type_2       303 non-null    category\n",
      " 13  CP_Type_3       303 non-null    category\n",
      "dtypes: category(9), int64(5)\n",
      "memory usage: 15.7 KB\n"
     ]
    }
   ],
   "source": [
    "heart_condition.info()"
   ]
  },
  {
   "cell_type": "markdown",
   "id": "b4fb090b",
   "metadata": {},
   "source": [
    "# For numerical features and categorical output (Target), we use ANOVA."
   ]
  },
  {
   "cell_type": "raw",
   "id": "65427735",
   "metadata": {},
   "source": [
    "The numerical features include:\n",
    "\n",
    "Age\n",
    "BloodPressure\n",
    "Cholestrol\n",
    "MaxHeartRate\n",
    "FamilyHistory"
   ]
  },
  {
   "cell_type": "code",
   "execution_count": 15,
   "id": "8e0f049c",
   "metadata": {},
   "outputs": [
    {
     "name": "stdout",
     "output_type": "stream",
     "text": [
      "Collecting researchpy\n",
      "  Downloading researchpy-0.3.2-py3-none-any.whl (15 kB)\n",
      "Requirement already satisfied: statsmodels in /Users/ashishbansal/opt/anaconda3/lib/python3.9/site-packages (from researchpy) (0.12.2)\n",
      "Requirement already satisfied: patsy in /Users/ashishbansal/opt/anaconda3/lib/python3.9/site-packages (from researchpy) (0.5.2)\n",
      "Requirement already satisfied: numpy in /Users/ashishbansal/opt/anaconda3/lib/python3.9/site-packages (from researchpy) (1.20.3)\n",
      "Requirement already satisfied: pandas in /Users/ashishbansal/opt/anaconda3/lib/python3.9/site-packages (from researchpy) (1.3.4)\n",
      "Requirement already satisfied: scipy in /Users/ashishbansal/opt/anaconda3/lib/python3.9/site-packages (from researchpy) (1.7.1)\n",
      "Requirement already satisfied: python-dateutil>=2.7.3 in /Users/ashishbansal/opt/anaconda3/lib/python3.9/site-packages (from pandas->researchpy) (2.8.2)\n",
      "Requirement already satisfied: pytz>=2017.3 in /Users/ashishbansal/opt/anaconda3/lib/python3.9/site-packages (from pandas->researchpy) (2021.3)\n",
      "Requirement already satisfied: six>=1.5 in /Users/ashishbansal/opt/anaconda3/lib/python3.9/site-packages (from python-dateutil>=2.7.3->pandas->researchpy) (1.16.0)\n",
      "Installing collected packages: researchpy\n",
      "Successfully installed researchpy-0.3.2\n"
     ]
    }
   ],
   "source": [
    "!pip install researchpy"
   ]
  },
  {
   "cell_type": "code",
   "execution_count": 16,
   "id": "f73f6264",
   "metadata": {},
   "outputs": [
    {
     "name": "stdout",
     "output_type": "stream",
     "text": [
      "<class 'pandas.core.frame.DataFrame'>\n",
      "RangeIndex: 303 entries, 0 to 302\n",
      "Data columns (total 14 columns):\n",
      " #   Column          Non-Null Count  Dtype   \n",
      "---  ------          --------------  -----   \n",
      " 0   Age             303 non-null    int64   \n",
      " 1   Sex             303 non-null    category\n",
      " 2   BloodPressure   303 non-null    int64   \n",
      " 3   Cholestrol      303 non-null    int64   \n",
      " 4   BloodSugar      303 non-null    category\n",
      " 5   ECG             303 non-null    category\n",
      " 6   MaxHeartRate    303 non-null    int64   \n",
      " 7   ExerciseAngina  303 non-null    category\n",
      " 8   FamilyHistory   303 non-null    int64   \n",
      " 9   Target          303 non-null    object  \n",
      " 10  CP_Type_0       303 non-null    category\n",
      " 11  CP_Type_1       303 non-null    category\n",
      " 12  CP_Type_2       303 non-null    category\n",
      " 13  CP_Type_3       303 non-null    category\n",
      "dtypes: category(8), int64(5), object(1)\n",
      "memory usage: 17.7+ KB\n"
     ]
    }
   ],
   "source": [
    "#ANOVA for numerical features vs Target:\n",
    "import researchpy as rp\n",
    "heart_condition['Target'].replace({0: 'LESS CHANCE', 1: 'MORE CHANCE'}, inplace= True)\n",
    "heart_condition.info()"
   ]
  },
  {
   "cell_type": "code",
   "execution_count": 17,
   "id": "015323a4",
   "metadata": {},
   "outputs": [
    {
     "name": "stdout",
     "output_type": "stream",
     "text": [
      "\n",
      "\n"
     ]
    },
    {
     "data": {
      "text/html": [
       "<div>\n",
       "<style scoped>\n",
       "    .dataframe tbody tr th:only-of-type {\n",
       "        vertical-align: middle;\n",
       "    }\n",
       "\n",
       "    .dataframe tbody tr th {\n",
       "        vertical-align: top;\n",
       "    }\n",
       "\n",
       "    .dataframe thead th {\n",
       "        text-align: right;\n",
       "    }\n",
       "</style>\n",
       "<table border=\"1\" class=\"dataframe\">\n",
       "  <thead>\n",
       "    <tr style=\"text-align: right;\">\n",
       "      <th></th>\n",
       "      <th>Variable</th>\n",
       "      <th>N</th>\n",
       "      <th>Mean</th>\n",
       "      <th>SD</th>\n",
       "      <th>SE</th>\n",
       "      <th>95% Conf.</th>\n",
       "      <th>Interval</th>\n",
       "    </tr>\n",
       "  </thead>\n",
       "  <tbody>\n",
       "    <tr>\n",
       "      <th>0</th>\n",
       "      <td>Age</td>\n",
       "      <td>303.0</td>\n",
       "      <td>54.3663</td>\n",
       "      <td>9.0821</td>\n",
       "      <td>0.5218</td>\n",
       "      <td>53.3396</td>\n",
       "      <td>55.3931</td>\n",
       "    </tr>\n",
       "  </tbody>\n",
       "</table>\n",
       "</div>"
      ],
      "text/plain": [
       "  Variable      N     Mean      SD      SE  95% Conf.  Interval\n",
       "0      Age  303.0  54.3663  9.0821  0.5218    53.3396   55.3931"
      ]
     },
     "execution_count": 17,
     "metadata": {},
     "output_type": "execute_result"
    }
   ],
   "source": [
    "rp.summary_cont(heart_condition['Age'])"
   ]
  },
  {
   "cell_type": "code",
   "execution_count": 18,
   "id": "d94c2c81",
   "metadata": {},
   "outputs": [
    {
     "name": "stdout",
     "output_type": "stream",
     "text": [
      "\n",
      "\n"
     ]
    },
    {
     "data": {
      "text/html": [
       "<div>\n",
       "<style scoped>\n",
       "    .dataframe tbody tr th:only-of-type {\n",
       "        vertical-align: middle;\n",
       "    }\n",
       "\n",
       "    .dataframe tbody tr th {\n",
       "        vertical-align: top;\n",
       "    }\n",
       "\n",
       "    .dataframe thead th {\n",
       "        text-align: right;\n",
       "    }\n",
       "</style>\n",
       "<table border=\"1\" class=\"dataframe\">\n",
       "  <thead>\n",
       "    <tr style=\"text-align: right;\">\n",
       "      <th></th>\n",
       "      <th>N</th>\n",
       "      <th>Mean</th>\n",
       "      <th>SD</th>\n",
       "      <th>SE</th>\n",
       "      <th>95% Conf.</th>\n",
       "      <th>Interval</th>\n",
       "    </tr>\n",
       "    <tr>\n",
       "      <th>Target</th>\n",
       "      <th></th>\n",
       "      <th></th>\n",
       "      <th></th>\n",
       "      <th></th>\n",
       "      <th></th>\n",
       "      <th></th>\n",
       "    </tr>\n",
       "  </thead>\n",
       "  <tbody>\n",
       "    <tr>\n",
       "      <th>LESS CHANCE</th>\n",
       "      <td>138</td>\n",
       "      <td>56.6014</td>\n",
       "      <td>7.9621</td>\n",
       "      <td>0.6778</td>\n",
       "      <td>55.2612</td>\n",
       "      <td>57.9417</td>\n",
       "    </tr>\n",
       "    <tr>\n",
       "      <th>MORE CHANCE</th>\n",
       "      <td>165</td>\n",
       "      <td>52.4970</td>\n",
       "      <td>9.5507</td>\n",
       "      <td>0.7435</td>\n",
       "      <td>51.0289</td>\n",
       "      <td>53.9651</td>\n",
       "    </tr>\n",
       "  </tbody>\n",
       "</table>\n",
       "</div>"
      ],
      "text/plain": [
       "               N     Mean      SD      SE  95% Conf.  Interval\n",
       "Target                                                        \n",
       "LESS CHANCE  138  56.6014  7.9621  0.6778    55.2612   57.9417\n",
       "MORE CHANCE  165  52.4970  9.5507  0.7435    51.0289   53.9651"
      ]
     },
     "execution_count": 18,
     "metadata": {},
     "output_type": "execute_result"
    }
   ],
   "source": [
    "rp.summary_cont(heart_condition['Age'].groupby(heart_condition['Target']))"
   ]
  },
  {
   "cell_type": "code",
   "execution_count": 19,
   "id": "59c506f9",
   "metadata": {},
   "outputs": [
    {
     "data": {
      "text/plain": [
       "F_onewayResult(statistic=16.116699823188288, pvalue=7.524801303442268e-05)"
      ]
     },
     "execution_count": 19,
     "metadata": {},
     "output_type": "execute_result"
    }
   ],
   "source": [
    "import scipy.stats as stats\n",
    "\n",
    "stats.f_oneway(heart_condition['Age'][heart_condition['Target'] == 'LESS CHANCE'],\n",
    "               heart_condition['Age'][heart_condition['Target'] == 'MORE CHANCE'])"
   ]
  },
  {
   "cell_type": "markdown",
   "id": "3c00d336",
   "metadata": {},
   "source": [
    "# Age is a relevant attribute"
   ]
  },
  {
   "cell_type": "code",
   "execution_count": null,
   "id": "b7cb209f",
   "metadata": {},
   "outputs": [],
   "source": [
    "Hypothesis H0: Means of both distributions (less chance/more chance of heart attack) are same; H1: Means of both distributions (less chance/more chance of heart attack) are significantly different\n",
    "\n",
    "As p-value is less than 0.05 (for 95% confidence), H0 is rejected and H1 is accepted. There is a statistically significant difference between the groups (less chance/more chance of heart attack) and their effects due to the variable age as, F= 16.116699823188288, pvalue=7.524801303442268e-05.\n",
    "\n",
    "Thus, age is a relevant attribute."
   ]
  },
  {
   "cell_type": "code",
   "execution_count": 20,
   "id": "51f11170",
   "metadata": {},
   "outputs": [
    {
     "name": "stdout",
     "output_type": "stream",
     "text": [
      "\n",
      "\n"
     ]
    },
    {
     "data": {
      "text/html": [
       "<div>\n",
       "<style scoped>\n",
       "    .dataframe tbody tr th:only-of-type {\n",
       "        vertical-align: middle;\n",
       "    }\n",
       "\n",
       "    .dataframe tbody tr th {\n",
       "        vertical-align: top;\n",
       "    }\n",
       "\n",
       "    .dataframe thead th {\n",
       "        text-align: right;\n",
       "    }\n",
       "</style>\n",
       "<table border=\"1\" class=\"dataframe\">\n",
       "  <thead>\n",
       "    <tr style=\"text-align: right;\">\n",
       "      <th></th>\n",
       "      <th>Variable</th>\n",
       "      <th>N</th>\n",
       "      <th>Mean</th>\n",
       "      <th>SD</th>\n",
       "      <th>SE</th>\n",
       "      <th>95% Conf.</th>\n",
       "      <th>Interval</th>\n",
       "    </tr>\n",
       "  </thead>\n",
       "  <tbody>\n",
       "    <tr>\n",
       "      <th>0</th>\n",
       "      <td>BloodPressure</td>\n",
       "      <td>303.0</td>\n",
       "      <td>131.6238</td>\n",
       "      <td>17.5381</td>\n",
       "      <td>1.0075</td>\n",
       "      <td>129.6411</td>\n",
       "      <td>133.6065</td>\n",
       "    </tr>\n",
       "  </tbody>\n",
       "</table>\n",
       "</div>"
      ],
      "text/plain": [
       "        Variable      N      Mean       SD      SE  95% Conf.  Interval\n",
       "0  BloodPressure  303.0  131.6238  17.5381  1.0075   129.6411  133.6065"
      ]
     },
     "execution_count": 20,
     "metadata": {},
     "output_type": "execute_result"
    }
   ],
   "source": [
    "rp.summary_cont(heart_condition['BloodPressure'])"
   ]
  },
  {
   "cell_type": "code",
   "execution_count": 21,
   "id": "d6d405b8",
   "metadata": {},
   "outputs": [
    {
     "data": {
      "text/plain": [
       "F_onewayResult(statistic=6.458168674005333, pvalue=0.011546059200233376)"
      ]
     },
     "execution_count": 21,
     "metadata": {},
     "output_type": "execute_result"
    }
   ],
   "source": [
    "stats.f_oneway(heart_condition['BloodPressure'][heart_condition['Target'] == 'LESS CHANCE'],\n",
    "               heart_condition['BloodPressure'][heart_condition['Target'] == 'MORE CHANCE'])"
   ]
  },
  {
   "cell_type": "markdown",
   "id": "4aeb186b",
   "metadata": {},
   "source": [
    "# BloodPressure is a relevant attribute"
   ]
  },
  {
   "cell_type": "markdown",
   "id": "380198b6",
   "metadata": {},
   "source": [
    "Hypothesis H0: Means of both distributions (less chance/more chance of heart attack) are same; H1: Means of both distributions (less chance/more chance of heart attack) are significantly different\n",
    "\n",
    "As p-value is less than 0.05 (for 95% confidence), H0 is rejected and H1 is accepted. There is a statistically significant difference between the groups (less chance/more chance of heart attack) and their effects due to the variable BloodPressure as, F= 6.458168674005333, pvalue=0.011546059200233376.\n",
    "\n",
    "Thus, BloodPressure is a relevant attribute."
   ]
  },
  {
   "cell_type": "code",
   "execution_count": 22,
   "id": "0d1b5bcf",
   "metadata": {},
   "outputs": [
    {
     "name": "stdout",
     "output_type": "stream",
     "text": [
      "\n",
      "\n"
     ]
    },
    {
     "data": {
      "text/html": [
       "<div>\n",
       "<style scoped>\n",
       "    .dataframe tbody tr th:only-of-type {\n",
       "        vertical-align: middle;\n",
       "    }\n",
       "\n",
       "    .dataframe tbody tr th {\n",
       "        vertical-align: top;\n",
       "    }\n",
       "\n",
       "    .dataframe thead th {\n",
       "        text-align: right;\n",
       "    }\n",
       "</style>\n",
       "<table border=\"1\" class=\"dataframe\">\n",
       "  <thead>\n",
       "    <tr style=\"text-align: right;\">\n",
       "      <th></th>\n",
       "      <th>Variable</th>\n",
       "      <th>N</th>\n",
       "      <th>Mean</th>\n",
       "      <th>SD</th>\n",
       "      <th>SE</th>\n",
       "      <th>95% Conf.</th>\n",
       "      <th>Interval</th>\n",
       "    </tr>\n",
       "  </thead>\n",
       "  <tbody>\n",
       "    <tr>\n",
       "      <th>0</th>\n",
       "      <td>Cholestrol</td>\n",
       "      <td>303.0</td>\n",
       "      <td>246.264</td>\n",
       "      <td>51.8308</td>\n",
       "      <td>2.9776</td>\n",
       "      <td>240.4046</td>\n",
       "      <td>252.1235</td>\n",
       "    </tr>\n",
       "  </tbody>\n",
       "</table>\n",
       "</div>"
      ],
      "text/plain": [
       "     Variable      N     Mean       SD      SE  95% Conf.  Interval\n",
       "0  Cholestrol  303.0  246.264  51.8308  2.9776   240.4046  252.1235"
      ]
     },
     "execution_count": 22,
     "metadata": {},
     "output_type": "execute_result"
    }
   ],
   "source": [
    "rp.summary_cont(heart_condition['Cholestrol'])"
   ]
  },
  {
   "cell_type": "code",
   "execution_count": 23,
   "id": "5d768ec3",
   "metadata": {},
   "outputs": [
    {
     "data": {
      "text/plain": [
       "F_onewayResult(statistic=2.2029834463803746, pvalue=0.1387903269560108)"
      ]
     },
     "execution_count": 23,
     "metadata": {},
     "output_type": "execute_result"
    }
   ],
   "source": [
    "stats.f_oneway(heart_condition['Cholestrol'][heart_condition['Target'] == 'LESS CHANCE'],\n",
    "               heart_condition['Cholestrol'][heart_condition['Target'] == 'MORE CHANCE'])"
   ]
  },
  {
   "cell_type": "markdown",
   "id": "8d978985",
   "metadata": {},
   "source": [
    "# Cholestrol is an irrelevant attribute"
   ]
  },
  {
   "cell_type": "markdown",
   "id": "d199805e",
   "metadata": {},
   "source": [
    "Hypothesis H0: Means of both distributions (less chance/more chance of heart attack) are same; H1: Means of both distributions (less chance/more chance of heart attack) are significantly different\n",
    "\n",
    "As p-value is greater than 0.05 (for 95% confidence), H0 is accepted and H1 is rejected. There is no statistically significant difference between the groups (less chance/more chance of heart attack) and their effects due to the variable cholestrol as, F= 2.2029834463803746, pvalue=0.1387903269560108.\n",
    "\n",
    "Thus, Cholestrol is an irrelevant attribute.\n"
   ]
  },
  {
   "cell_type": "code",
   "execution_count": 24,
   "id": "ff859daa",
   "metadata": {},
   "outputs": [
    {
     "name": "stdout",
     "output_type": "stream",
     "text": [
      "\n",
      "\n"
     ]
    },
    {
     "data": {
      "text/html": [
       "<div>\n",
       "<style scoped>\n",
       "    .dataframe tbody tr th:only-of-type {\n",
       "        vertical-align: middle;\n",
       "    }\n",
       "\n",
       "    .dataframe tbody tr th {\n",
       "        vertical-align: top;\n",
       "    }\n",
       "\n",
       "    .dataframe thead th {\n",
       "        text-align: right;\n",
       "    }\n",
       "</style>\n",
       "<table border=\"1\" class=\"dataframe\">\n",
       "  <thead>\n",
       "    <tr style=\"text-align: right;\">\n",
       "      <th></th>\n",
       "      <th>Variable</th>\n",
       "      <th>N</th>\n",
       "      <th>Mean</th>\n",
       "      <th>SD</th>\n",
       "      <th>SE</th>\n",
       "      <th>95% Conf.</th>\n",
       "      <th>Interval</th>\n",
       "    </tr>\n",
       "  </thead>\n",
       "  <tbody>\n",
       "    <tr>\n",
       "      <th>0</th>\n",
       "      <td>MaxHeartRate</td>\n",
       "      <td>303.0</td>\n",
       "      <td>149.6469</td>\n",
       "      <td>22.9052</td>\n",
       "      <td>1.3159</td>\n",
       "      <td>147.0574</td>\n",
       "      <td>152.2363</td>\n",
       "    </tr>\n",
       "  </tbody>\n",
       "</table>\n",
       "</div>"
      ],
      "text/plain": [
       "       Variable      N      Mean       SD      SE  95% Conf.  Interval\n",
       "0  MaxHeartRate  303.0  149.6469  22.9052  1.3159   147.0574  152.2363"
      ]
     },
     "execution_count": 24,
     "metadata": {},
     "output_type": "execute_result"
    }
   ],
   "source": [
    "rp.summary_cont(heart_condition['MaxHeartRate'])"
   ]
  },
  {
   "cell_type": "code",
   "execution_count": 25,
   "id": "6ab7832c",
   "metadata": {},
   "outputs": [
    {
     "data": {
      "text/plain": [
       "F_onewayResult(statistic=65.12010440125097, pvalue=1.6973376386560805e-14)"
      ]
     },
     "execution_count": 25,
     "metadata": {},
     "output_type": "execute_result"
    }
   ],
   "source": [
    "stats.f_oneway(heart_condition['MaxHeartRate'][heart_condition['Target'] == 'LESS CHANCE'],\n",
    "               heart_condition['MaxHeartRate'][heart_condition['Target'] == 'MORE CHANCE'])"
   ]
  },
  {
   "cell_type": "markdown",
   "id": "0ce762ad",
   "metadata": {},
   "source": [
    "# MaxHeartRate is a relevant attribute"
   ]
  },
  {
   "cell_type": "markdown",
   "id": "939bf7f8",
   "metadata": {},
   "source": [
    "Hypothesis H0: Means of both distributions (less chance/more chance of heart attack) are same; H1: Means of both distributions (less chance/more chance of heart attack) are significantly different\n",
    "\n",
    "As p-value is less than 0.05 (for 95% confidence), H0 is accepted and H1 is rejected. There is statistically significant difference between the groups (less chance/more chance of heart attack) and their effects due to the variable MaxHeartRate as, F= 65.12010440125097, pvalue=1.6973376386560805e-14.\n",
    "\n",
    "Thus, MaxHeartRate is a relevant attribute."
   ]
  },
  {
   "cell_type": "code",
   "execution_count": 26,
   "id": "68c58d08",
   "metadata": {},
   "outputs": [
    {
     "name": "stdout",
     "output_type": "stream",
     "text": [
      "\n",
      "\n"
     ]
    },
    {
     "data": {
      "text/html": [
       "<div>\n",
       "<style scoped>\n",
       "    .dataframe tbody tr th:only-of-type {\n",
       "        vertical-align: middle;\n",
       "    }\n",
       "\n",
       "    .dataframe tbody tr th {\n",
       "        vertical-align: top;\n",
       "    }\n",
       "\n",
       "    .dataframe thead th {\n",
       "        text-align: right;\n",
       "    }\n",
       "</style>\n",
       "<table border=\"1\" class=\"dataframe\">\n",
       "  <thead>\n",
       "    <tr style=\"text-align: right;\">\n",
       "      <th></th>\n",
       "      <th>Variable</th>\n",
       "      <th>N</th>\n",
       "      <th>Mean</th>\n",
       "      <th>SD</th>\n",
       "      <th>SE</th>\n",
       "      <th>95% Conf.</th>\n",
       "      <th>Interval</th>\n",
       "    </tr>\n",
       "  </thead>\n",
       "  <tbody>\n",
       "    <tr>\n",
       "      <th>0</th>\n",
       "      <td>FamilyHistory</td>\n",
       "      <td>303.0</td>\n",
       "      <td>1.2046</td>\n",
       "      <td>1.0968</td>\n",
       "      <td>0.063</td>\n",
       "      <td>1.0806</td>\n",
       "      <td>1.3286</td>\n",
       "    </tr>\n",
       "  </tbody>\n",
       "</table>\n",
       "</div>"
      ],
      "text/plain": [
       "        Variable      N    Mean      SD     SE  95% Conf.  Interval\n",
       "0  FamilyHistory  303.0  1.2046  1.0968  0.063     1.0806    1.3286"
      ]
     },
     "execution_count": 26,
     "metadata": {},
     "output_type": "execute_result"
    }
   ],
   "source": [
    "rp.summary_cont(heart_condition['FamilyHistory'])"
   ]
  },
  {
   "cell_type": "code",
   "execution_count": 27,
   "id": "40c8d2e2",
   "metadata": {},
   "outputs": [
    {
     "data": {
      "text/plain": [
       "F_onewayResult(statistic=0.25024928475305025, pvalue=0.6172651404419242)"
      ]
     },
     "execution_count": 27,
     "metadata": {},
     "output_type": "execute_result"
    }
   ],
   "source": [
    "stats.f_oneway(heart_condition['FamilyHistory'][heart_condition['Target'] == 'LESS CHANCE'],\n",
    "               heart_condition['FamilyHistory'][heart_condition['Target'] == 'MORE CHANCE'])"
   ]
  },
  {
   "cell_type": "markdown",
   "id": "9f1964d5",
   "metadata": {},
   "source": [
    "# FamilyHistory is an irrelevant attribute"
   ]
  },
  {
   "cell_type": "raw",
   "id": "ae984454",
   "metadata": {},
   "source": [
    "Hypothesis H0: Means of both distributions (less chance/more chance of heart attack) are same; H1: Means of both distributions (less chance/more chance of heart attack) are significantly different\n",
    "\n",
    "As p-value is greater than 0.05 (for 95% confidence), H0 is accepted and H1 is rejected. There is no statistically significant difference between the groups (less chance/more chance of heart attack) and their effects due to the variable familyhistory as, F= 0.25024928475305025, pvalue=0.6172651404419242.\n",
    "\n",
    "Thus, FamilyHistory is an irrelevant attribute.\n",
    "\n"
   ]
  },
  {
   "cell_type": "markdown",
   "id": "340c2bef",
   "metadata": {},
   "source": [
    "# For categorical features and categorical output (Target), we to convert the categorical features into numerical features and find correlation using Pearson's correlation."
   ]
  },
  {
   "cell_type": "markdown",
   "id": "e1f8f4d7",
   "metadata": {},
   "source": [
    "The categorical features** include:\n",
    "\n",
    "Sex\n",
    "BloodSugar\n",
    "ECG\n",
    "ExerciseAngina\n",
    "CP_Type_0\n",
    "CP_Type_1\n",
    "CP_Type_2\n",
    "CP_Type_3\n",
    "**All these features are binary categorical features with 0 or 1 values."
   ]
  },
  {
   "cell_type": "code",
   "execution_count": 28,
   "id": "6186a223",
   "metadata": {},
   "outputs": [
    {
     "name": "stdout",
     "output_type": "stream",
     "text": [
      "Pearson's Correlation for Sex and Target: -0.2809365755017672\n"
     ]
    }
   ],
   "source": [
    "import numpy as np\n",
    "from scipy.stats import pearsonr\n",
    "\n",
    "heart_condition['Target'].replace({'LESS CHANCE':0, 'MORE CHANCE':1}, inplace= True)\n",
    "heart_condition['Sex'].replace({'0':0, '1':1}, inplace= True)\n",
    "corr,_=pearsonr(heart_condition['Target'],heart_condition['Sex'])\n",
    "print(\"Pearson's Correlation for Sex and Target:\", corr)"
   ]
  },
  {
   "cell_type": "code",
   "execution_count": 29,
   "id": "4f214cc7",
   "metadata": {},
   "outputs": [
    {
     "name": "stdout",
     "output_type": "stream",
     "text": [
      "Pearson's Correlation for BloodSugar and Target: -0.02804576027271293\n"
     ]
    }
   ],
   "source": [
    "heart_condition['BloodSugar'].replace({'0':0, '1':1}, inplace= True)\n",
    "corr,_=pearsonr(heart_condition['Target'],heart_condition['BloodSugar'])\n",
    "print(\"Pearson's Correlation for BloodSugar and Target:\", corr)"
   ]
  },
  {
   "cell_type": "code",
   "execution_count": 30,
   "id": "07c43f55",
   "metadata": {},
   "outputs": [
    {
     "name": "stdout",
     "output_type": "stream",
     "text": [
      "Pearson's Correlation for ECG and Target: 0.15977519309753493\n"
     ]
    }
   ],
   "source": [
    "heart_condition['ECG'].replace({'0':0, '1':1}, inplace= True)\n",
    "corr,_=pearsonr(heart_condition['Target'],heart_condition['ECG'])\n",
    "print(\"Pearson's Correlation for ECG and Target:\", corr)"
   ]
  },
  {
   "cell_type": "code",
   "execution_count": 31,
   "id": "2598a6cb",
   "metadata": {},
   "outputs": [
    {
     "name": "stdout",
     "output_type": "stream",
     "text": [
      "Pearson's Correlation for ExerciseAngina and Target: -0.4367570833533034\n"
     ]
    }
   ],
   "source": [
    "heart_condition['ExerciseAngina'].replace({'0':0, '1':1}, inplace= True)\n",
    "corr,_=pearsonr(heart_condition['Target'],heart_condition['ExerciseAngina'])\n",
    "print(\"Pearson's Correlation for ExerciseAngina and Target:\", corr)"
   ]
  },
  {
   "cell_type": "code",
   "execution_count": 32,
   "id": "6206278c",
   "metadata": {},
   "outputs": [
    {
     "name": "stdout",
     "output_type": "stream",
     "text": [
      "Pearson's Correlation for CP_Type_0 and Target: -0.516014641568059\n"
     ]
    }
   ],
   "source": [
    "heart_condition['CP_Type_0'].replace({'0':0, '1':1}, inplace= True)\n",
    "corr,_=pearsonr(heart_condition['Target'],heart_condition['CP_Type_0'])\n",
    "print(\"Pearson's Correlation for CP_Type_0 and Target:\", corr)"
   ]
  },
  {
   "cell_type": "code",
   "execution_count": 33,
   "id": "8947f3a3",
   "metadata": {},
   "outputs": [
    {
     "name": "stdout",
     "output_type": "stream",
     "text": [
      "Pearson's Correlation for CP_Type_1 and Target: 0.24587909539147848\n"
     ]
    }
   ],
   "source": [
    "heart_condition['CP_Type_1'].replace({'0':0, '1':1}, inplace= True)\n",
    "corr,_=pearsonr(heart_condition['Target'],heart_condition['CP_Type_1'])\n",
    "print(\"Pearson's Correlation for CP_Type_1 and Target:\", corr)"
   ]
  },
  {
   "cell_type": "code",
   "execution_count": 34,
   "id": "e98ab5bf",
   "metadata": {},
   "outputs": [
    {
     "name": "stdout",
     "output_type": "stream",
     "text": [
      "Pearson's Correlation for CP_Type_0 and Target: 0.31674215819553925\n"
     ]
    }
   ],
   "source": [
    "heart_condition['CP_Type_2'].replace({'0':0, '1':1}, inplace= True)\n",
    "corr,_=pearsonr(heart_condition['Target'],heart_condition['CP_Type_2'])\n",
    "print(\"Pearson's Correlation for CP_Type_0 and Target:\", corr)"
   ]
  },
  {
   "cell_type": "code",
   "execution_count": 35,
   "id": "77ba8ea7",
   "metadata": {},
   "outputs": [
    {
     "name": "stdout",
     "output_type": "stream",
     "text": [
      "Pearson's Correlation for CP_Type_0 and Target: 0.08695687464637579\n"
     ]
    }
   ],
   "source": [
    "heart_condition['CP_Type_3'].replace({'0':0, '1':1}, inplace= True)\n",
    "corr,_=pearsonr(heart_condition['Target'],heart_condition['CP_Type_3'])\n",
    "print(\"Pearson's Correlation for CP_Type_0 and Target:\", corr)"
   ]
  },
  {
   "cell_type": "code",
   "execution_count": 36,
   "id": "d38971fb",
   "metadata": {},
   "outputs": [
    {
     "name": "stdout",
     "output_type": "stream",
     "text": [
      "Saving figure attribute_histogram_plots\n"
     ]
    },
    {
     "data": {
      "image/png": "[encoded data removed]",
      "text/plain": [
       "<Figure size 1440x1080 with 6 Axes>"
      ]
     },
     "metadata": {
      "needs_background": "light"
     },
     "output_type": "display_data"
    }
   ],
   "source": [
    "%matplotlib inline\n",
    "import matplotlib.pyplot as plt\n",
    "heart_condition.hist(bins=50, figsize=(20,15))\n",
    "save_fig(\"attribute_histogram_plots\")\n",
    "plt.show()"
   ]
  },
  {
   "cell_type": "code",
   "execution_count": 37,
   "id": "e9bd7f37",
   "metadata": {},
   "outputs": [
    {
     "data": {
      "image/png": "[encoded data removed]",
      "text/plain": [
       "<Figure size 432x288 with 1 Axes>"
      ]
     },
     "metadata": {
      "needs_background": "light"
     },
     "output_type": "display_data"
    }
   ],
   "source": [
    "H = heart_condition[heart_condition.Target == 1]\n",
    "L = heart_condition[heart_condition.Target == 0]\n",
    "plt.title(\"High Risk vs Low Risk of Heart Attack\")\n",
    "plt.xlabel(\"Age\")\n",
    "plt.ylabel(\"Blood Pressure\")\n",
    "plt.scatter(H.Age, H.BloodPressure, color = \"red\", label = \"High Risk\", alpha = 0.3)\n",
    "plt.scatter(L.Age, L.BloodPressure, color = \"lime\", label = \"Low Risk\", alpha = 0.3)\n",
    "plt.legend()\n",
    "plt.show()"
   ]
  },
  {
   "cell_type": "code",
   "execution_count": 38,
   "id": "e332c381",
   "metadata": {},
   "outputs": [
    {
     "data": {
      "image/png": "[encoded data removed]",
      "text/plain": [
       "<Figure size 432x288 with 1 Axes>"
      ]
     },
     "metadata": {
      "needs_background": "light"
     },
     "output_type": "display_data"
    }
   ],
   "source": [
    "plt.title(\"High Risk vs Low Risk of Heart Attack\")\n",
    "plt.xlabel(\"Age\")\n",
    "plt.ylabel(\"Max Heart Rate\")\n",
    "plt.scatter(H.Age, H.MaxHeartRate, color = \"red\", label = \"High Risk\", alpha = 0.3)\n",
    "plt.scatter(L.Age, L.MaxHeartRate, color = \"lime\", label = \"Low Risk\", alpha = 0.3)\n",
    "plt.legend()\n",
    "plt.show()"
   ]
  },
  {
   "cell_type": "code",
   "execution_count": 39,
   "id": "50bf1988",
   "metadata": {},
   "outputs": [
    {
     "data": {
      "image/png": "[encoded data removed]",
      "text/plain": [
       "<Figure size 432x288 with 1 Axes>"
      ]
     },
     "metadata": {
      "needs_background": "light"
     },
     "output_type": "display_data"
    }
   ],
   "source": [
    "plt.title(\"High Risk vs Low Risk of Heart Attack\")\n",
    "plt.xlabel(\"Blood Pressure\")\n",
    "plt.ylabel(\"Max Heart Rate\")\n",
    "plt.scatter(H.BloodPressure, H.MaxHeartRate, color = \"red\", label = \"High Risk\", alpha = 0.3)\n",
    "plt.scatter(L.BloodPressure, L.MaxHeartRate, color = \"lime\", label = \"Low Risk\", alpha = 0.3)\n",
    "plt.legend()\n",
    "plt.show()"
   ]
  },
  {
   "cell_type": "markdown",
   "id": "4a6a565a",
   "metadata": {},
   "source": [
    "# Observations"
   ]
  },
  {
   "cell_type": "raw",
   "id": "6f3ffb3e",
   "metadata": {},
   "source": [
    "Age, Cholestrol, and MaxHeartRate appear to be normally distributed.\n",
    "Age appears to be a symmetric distribution with a mean of approximately 55 years.\n",
    "Cholestrol also appears to be symmetrically distributed.\n",
    "Outliers of Cholestrol appear to lie 350 units and beyond.\n",
    "MaxHeartRate appears to be left tailed with outliers less than 120 units.\n",
    "BloodPressure appears to have outliers beyond 160 units.\n",
    "Scatter-plots for high risk vs low risk of heart attack are shown for various groups of selected variables. Some observations from the scatter-plots include:\n",
    "\n",
    "a. High risk in subjects of 40-50 age group with blood pressure of 120-140.\n",
    "\n",
    "b. Higher the max heart rate higher the risk.\n",
    "\n",
    "c. Aged subjects have a high risk even for lower values of max heart rate.\n",
    "\n",
    "d. Higher blood pressure combined with high max heart rate increases the risk"
   ]
  },
  {
   "cell_type": "code",
   "execution_count": 40,
   "id": "ddf853e7",
   "metadata": {},
   "outputs": [
    {
     "data": {
      "text/html": [
       "<div>\n",
       "<style scoped>\n",
       "    .dataframe tbody tr th:only-of-type {\n",
       "        vertical-align: middle;\n",
       "    }\n",
       "\n",
       "    .dataframe tbody tr th {\n",
       "        vertical-align: top;\n",
       "    }\n",
       "\n",
       "    .dataframe thead th {\n",
       "        text-align: right;\n",
       "    }\n",
       "</style>\n",
       "<table border=\"1\" class=\"dataframe\">\n",
       "  <thead>\n",
       "    <tr style=\"text-align: right;\">\n",
       "      <th></th>\n",
       "      <th>Age</th>\n",
       "      <th>Sex</th>\n",
       "      <th>BloodPressure</th>\n",
       "      <th>Cholestrol</th>\n",
       "      <th>BloodSugar</th>\n",
       "      <th>ECG</th>\n",
       "      <th>MaxHeartRate</th>\n",
       "      <th>ExerciseAngina</th>\n",
       "      <th>FamilyHistory</th>\n",
       "      <th>Target</th>\n",
       "      <th>CP_Type_0</th>\n",
       "      <th>CP_Type_1</th>\n",
       "      <th>CP_Type_2</th>\n",
       "      <th>CP_Type_3</th>\n",
       "    </tr>\n",
       "  </thead>\n",
       "  <tbody>\n",
       "    <tr>\n",
       "      <th>0</th>\n",
       "      <td>0.708333</td>\n",
       "      <td>1.0</td>\n",
       "      <td>0.481132</td>\n",
       "      <td>0.244292</td>\n",
       "      <td>1.0</td>\n",
       "      <td>0.0</td>\n",
       "      <td>0.603053</td>\n",
       "      <td>0.0</td>\n",
       "      <td>0.4</td>\n",
       "      <td>1.0</td>\n",
       "      <td>0.0</td>\n",
       "      <td>0.0</td>\n",
       "      <td>0.0</td>\n",
       "      <td>1.0</td>\n",
       "    </tr>\n",
       "    <tr>\n",
       "      <th>1</th>\n",
       "      <td>0.166667</td>\n",
       "      <td>1.0</td>\n",
       "      <td>0.339623</td>\n",
       "      <td>0.283105</td>\n",
       "      <td>0.0</td>\n",
       "      <td>1.0</td>\n",
       "      <td>0.885496</td>\n",
       "      <td>0.0</td>\n",
       "      <td>0.2</td>\n",
       "      <td>1.0</td>\n",
       "      <td>0.0</td>\n",
       "      <td>0.0</td>\n",
       "      <td>1.0</td>\n",
       "      <td>0.0</td>\n",
       "    </tr>\n",
       "    <tr>\n",
       "      <th>2</th>\n",
       "      <td>0.250000</td>\n",
       "      <td>0.0</td>\n",
       "      <td>0.339623</td>\n",
       "      <td>0.178082</td>\n",
       "      <td>0.0</td>\n",
       "      <td>0.0</td>\n",
       "      <td>0.770992</td>\n",
       "      <td>0.0</td>\n",
       "      <td>0.0</td>\n",
       "      <td>1.0</td>\n",
       "      <td>0.0</td>\n",
       "      <td>1.0</td>\n",
       "      <td>0.0</td>\n",
       "      <td>0.0</td>\n",
       "    </tr>\n",
       "    <tr>\n",
       "      <th>3</th>\n",
       "      <td>0.562500</td>\n",
       "      <td>1.0</td>\n",
       "      <td>0.245283</td>\n",
       "      <td>0.251142</td>\n",
       "      <td>0.0</td>\n",
       "      <td>1.0</td>\n",
       "      <td>0.816794</td>\n",
       "      <td>0.0</td>\n",
       "      <td>0.2</td>\n",
       "      <td>1.0</td>\n",
       "      <td>0.0</td>\n",
       "      <td>1.0</td>\n",
       "      <td>0.0</td>\n",
       "      <td>0.0</td>\n",
       "    </tr>\n",
       "    <tr>\n",
       "      <th>4</th>\n",
       "      <td>0.583333</td>\n",
       "      <td>0.0</td>\n",
       "      <td>0.245283</td>\n",
       "      <td>0.520548</td>\n",
       "      <td>0.0</td>\n",
       "      <td>1.0</td>\n",
       "      <td>0.702290</td>\n",
       "      <td>1.0</td>\n",
       "      <td>0.0</td>\n",
       "      <td>1.0</td>\n",
       "      <td>1.0</td>\n",
       "      <td>0.0</td>\n",
       "      <td>0.0</td>\n",
       "      <td>0.0</td>\n",
       "    </tr>\n",
       "  </tbody>\n",
       "</table>\n",
       "</div>"
      ],
      "text/plain": [
       "        Age  Sex  BloodPressure  Cholestrol  BloodSugar  ECG  MaxHeartRate  \\\n",
       "0  0.708333  1.0       0.481132    0.244292         1.0  0.0      0.603053   \n",
       "1  0.166667  1.0       0.339623    0.283105         0.0  1.0      0.885496   \n",
       "2  0.250000  0.0       0.339623    0.178082         0.0  0.0      0.770992   \n",
       "3  0.562500  1.0       0.245283    0.251142         0.0  1.0      0.816794   \n",
       "4  0.583333  0.0       0.245283    0.520548         0.0  1.0      0.702290   \n",
       "\n",
       "   ExerciseAngina  FamilyHistory  Target  CP_Type_0  CP_Type_1  CP_Type_2  \\\n",
       "0             0.0            0.4     1.0        0.0        0.0        0.0   \n",
       "1             0.0            0.2     1.0        0.0        0.0        1.0   \n",
       "2             0.0            0.0     1.0        0.0        1.0        0.0   \n",
       "3             0.0            0.2     1.0        0.0        1.0        0.0   \n",
       "4             1.0            0.0     1.0        1.0        0.0        0.0   \n",
       "\n",
       "   CP_Type_3  \n",
       "0        1.0  \n",
       "1        0.0  \n",
       "2        0.0  \n",
       "3        0.0  \n",
       "4        0.0  "
      ]
     },
     "execution_count": 40,
     "metadata": {},
     "output_type": "execute_result"
    }
   ],
   "source": [
    "import scipy\n",
    "import numpy\n",
    "import sklearn\n",
    "from sklearn.preprocessing import MinMaxScaler\n",
    "\n",
    "# initialising the MinMaxScaler\n",
    "scaler = MinMaxScaler(feature_range=(0, 1))\n",
    "\n",
    "# Normalization using min-max normalization\n",
    "scaled_features = scaler.fit_transform(heart_condition.values)\n",
    "heart_condition = pd.DataFrame(scaled_features, index=heart_condition.index, columns=heart_condition.columns)\n",
    "heart_condition.head()"
   ]
  },
  {
   "cell_type": "code",
   "execution_count": 41,
   "id": "4f17b80f",
   "metadata": {},
   "outputs": [],
   "source": [
    "from sklearn.model_selection import train_test_split\n",
    "# separate array into input and output components\n",
    "X = heart_condition.iloc[:, [0,2,6,7,10]].values\n",
    "y = heart_condition.iloc[:, 9].values\n",
    "\n",
    "# Splitting the dataset into the Training set and Test set\n",
    "X_train, X_test, y_train, y_test = train_test_split(X, y, test_size = 0.20, random_state = 0)"
   ]
  },
  {
   "cell_type": "code",
   "execution_count": 42,
   "id": "bd5ad60a",
   "metadata": {},
   "outputs": [
    {
     "data": {
      "text/plain": [
       "242"
      ]
     },
     "execution_count": 42,
     "metadata": {},
     "output_type": "execute_result"
    }
   ],
   "source": [
    "len(X_train)\n"
   ]
  },
  {
   "cell_type": "code",
   "execution_count": 43,
   "id": "f474df59",
   "metadata": {},
   "outputs": [
    {
     "data": {
      "text/plain": [
       "61"
      ]
     },
     "execution_count": 43,
     "metadata": {},
     "output_type": "execute_result"
    }
   ],
   "source": [
    "len(X_test)\n"
   ]
  },
  {
   "cell_type": "code",
   "execution_count": 44,
   "id": "c053cba1",
   "metadata": {},
   "outputs": [
    {
     "data": {
      "text/plain": [
       "GaussianNB()"
      ]
     },
     "execution_count": 44,
     "metadata": {},
     "output_type": "execute_result"
    }
   ],
   "source": [
    "from sklearn.naive_bayes import GaussianNB\n",
    "\n",
    "clf = GaussianNB()\n",
    "clf.fit(X_train, y_train)"
   ]
  },
  {
   "cell_type": "code",
   "execution_count": 45,
   "id": "9a4b3480",
   "metadata": {},
   "outputs": [
    {
     "name": "stdout",
     "output_type": "stream",
     "text": [
      "[[9.92931270e-01 7.06872992e-03]\n",
      " [2.44729513e-01 7.55270487e-01]\n",
      " [2.07763498e-01 7.92236502e-01]\n",
      " [9.77954702e-01 2.20452984e-02]\n",
      " [1.03695939e-01 8.96304061e-01]\n",
      " [2.65716031e-01 7.34283969e-01]\n",
      " [9.73654704e-01 2.63452955e-02]\n",
      " [6.26281947e-01 3.73718053e-01]\n",
      " [9.99509969e-01 4.90030717e-04]\n",
      " [9.87229982e-01 1.27700180e-02]\n",
      " [6.00315322e-02 9.39968468e-01]\n",
      " [3.20058160e-01 6.79941840e-01]\n",
      " [8.32667050e-01 1.67332950e-01]\n",
      " [2.37995060e-02 9.76200494e-01]\n",
      " [3.55144323e-02 9.64485568e-01]\n",
      " [6.46686136e-01 3.53313864e-01]\n",
      " [5.05256575e-01 4.94743425e-01]\n",
      " [1.82005818e-02 9.81799418e-01]\n",
      " [9.98270833e-01 1.72916686e-03]\n",
      " [6.17381469e-03 9.93826185e-01]\n",
      " [1.45982181e-01 8.54017819e-01]\n",
      " [2.45485867e-01 7.54514133e-01]\n",
      " [5.62990887e-01 4.37009113e-01]\n",
      " [9.95681316e-01 4.31868442e-03]\n",
      " [1.61266302e-02 9.83873370e-01]\n",
      " [6.89476174e-01 3.10523826e-01]\n",
      " [3.24010852e-01 6.75989148e-01]\n",
      " [4.02713271e-01 5.97286729e-01]\n",
      " [1.61510089e-02 9.83848991e-01]\n",
      " [4.83748726e-02 9.51625127e-01]\n",
      " [8.60311657e-02 9.13968834e-01]\n",
      " [9.43299864e-01 5.67001357e-02]\n",
      " [1.17487110e-02 9.88251289e-01]\n",
      " [1.57316093e-01 8.42683907e-01]\n",
      " [3.18279752e-03 9.96817202e-01]\n",
      " [9.95335784e-01 4.66421587e-03]\n",
      " [9.73525588e-01 2.64744119e-02]\n",
      " [1.59652135e-02 9.84034786e-01]\n",
      " [9.71142321e-01 2.88576786e-02]\n",
      " [5.48049148e-01 4.51950852e-01]\n",
      " [6.32569403e-01 3.67430597e-01]\n",
      " [4.69440825e-01 5.30559175e-01]\n",
      " [3.68799258e-02 9.63120074e-01]\n",
      " [9.85520975e-01 1.44790254e-02]\n",
      " [8.15051533e-01 1.84948467e-01]\n",
      " [1.95096306e-01 8.04903694e-01]\n",
      " [1.05527569e-02 9.89447243e-01]\n",
      " [3.99883670e-02 9.60011633e-01]\n",
      " [9.67161868e-01 3.28381321e-02]\n",
      " [1.21822047e-02 9.87817795e-01]\n",
      " [2.65684970e-02 9.73431503e-01]\n",
      " [8.60892279e-01 1.39107721e-01]\n",
      " [1.59017909e-01 8.40982091e-01]\n",
      " [5.02140298e-02 9.49785970e-01]\n",
      " [6.55906815e-03 9.93440932e-01]\n",
      " [8.63638710e-01 1.36361290e-01]\n",
      " [2.75521272e-02 9.72447873e-01]\n",
      " [3.63429389e-02 9.63657061e-01]\n",
      " [1.03006741e-01 8.96993259e-01]\n",
      " [3.09428554e-02 9.69057145e-01]\n",
      " [8.48546634e-01 1.51453366e-01]]\n"
     ]
    }
   ],
   "source": [
    "probs_log1=clf.predict_proba(X_test)\n",
    "print(probs_log1)"
   ]
  },
  {
   "cell_type": "code",
   "execution_count": 46,
   "id": "b119d5c2",
   "metadata": {},
   "outputs": [
    {
     "name": "stdout",
     "output_type": "stream",
     "text": [
      "No Skill: ROC AUC=0.500\n",
      "Gaussian Naive Bayes: ROC AUC=0.879\n"
     ]
    },
    {
     "data": {
      "image/png": "[encoded data removed]",
      "text/plain": [
       "<Figure size 432x288 with 1 Axes>"
      ]
     },
     "metadata": {
      "needs_background": "light"
     },
     "output_type": "display_data"
    }
   ],
   "source": [
    "# roc curve and auc\n",
    "from sklearn.datasets import make_classification\n",
    "from sklearn.linear_model import LogisticRegression\n",
    "from sklearn.model_selection import train_test_split\n",
    "from sklearn.metrics import roc_curve\n",
    "from sklearn.metrics import roc_auc_score\n",
    "from matplotlib import pyplot\n",
    "\n",
    "# generate a no skill prediction (majority class)\n",
    "ns_probs = [0 for _ in range(len(y_test))]\n",
    "\n",
    "# keep probabilities for the positive outcome only\n",
    "GNB_probs = probs_log1[:, 1]\n",
    "\n",
    "# calculate scores\n",
    "ns_auc = roc_auc_score(y_test, ns_probs)\n",
    "GNB_auc = roc_auc_score(y_test, GNB_probs)\n",
    "\n",
    "# summarize scores\n",
    "print('No Skill: ROC AUC=%.3f' % (ns_auc))\n",
    "print('Gaussian Naive Bayes: ROC AUC=%.3f' % (GNB_auc))\n",
    "\n",
    "# calculate roc curves\n",
    "ns_fpr, ns_tpr, _ = roc_curve(y_test, ns_probs)\n",
    "GNB_fpr, GNB_tpr, _ = roc_curve(y_test, GNB_probs)\n",
    "\n",
    "# plot the roc curve for the model\n",
    "pyplot.plot(ns_fpr, ns_tpr, linestyle='--', label='No Skill')\n",
    "pyplot.plot(GNB_fpr, GNB_tpr, marker='.', label='Gaussian NB')\n",
    "\n",
    "# axis labels\n",
    "pyplot.xlabel('False Positive Rate')\n",
    "pyplot.ylabel('True Positive Rate')\n",
    "\n",
    "# show the legend\n",
    "\n",
    "pyplot.legend()\n",
    "\n",
    "# show the plot\n",
    "pyplot.show()"
   ]
  },
  {
   "cell_type": "code",
   "execution_count": 47,
   "id": "c73aade5",
   "metadata": {},
   "outputs": [
    {
     "name": "stdout",
     "output_type": "stream",
     "text": [
      "Accuracy Score: 0.7704918032786885\n"
     ]
    }
   ],
   "source": [
    "print(\"Accuracy Score:\", clf.score(X_test,y_test))"
   ]
  },
  {
   "cell_type": "code",
   "execution_count": 48,
   "id": "407c1a1d",
   "metadata": {},
   "outputs": [
    {
     "name": "stdout",
     "output_type": "stream",
     "text": [
      "[0. 1. 1. 0. 1. 1. 0. 0. 0. 0. 1. 1. 0. 1. 1. 0. 0. 1. 0. 1. 1. 1. 0. 0.\n",
      " 1. 0. 1. 1. 1. 1. 1. 0. 1. 1. 1. 0. 0. 1. 0. 0. 0. 1. 1. 0. 0. 1. 1. 1.\n",
      " 0. 1. 1. 0. 1. 1. 1. 0. 1. 1. 1. 1. 0.]\n"
     ]
    }
   ],
   "source": [
    "from sklearn.metrics import precision_recall_fscore_support\n",
    "\n",
    "y_pred=clf.predict(X_test)\n",
    "print(y_pred)"
   ]
  },
  {
   "cell_type": "code",
   "execution_count": 49,
   "id": "77e0163f",
   "metadata": {},
   "outputs": [
    {
     "data": {
      "text/plain": [
       "(0.768888888888889, 0.7636165577342048, 0.7653846153846153, None)"
      ]
     },
     "execution_count": 49,
     "metadata": {},
     "output_type": "execute_result"
    }
   ],
   "source": [
    "precision_recall_fscore_support(y_test, y_pred, average='macro')"
   ]
  },
  {
   "cell_type": "markdown",
   "id": "7cc92195",
   "metadata": {},
   "source": [
    "# Analysis Results"
   ]
  },
  {
   "cell_type": "markdown",
   "id": "b1c7564f",
   "metadata": {},
   "source": [
    "AUC-ROC curve is presented above with ROC AUC=0.852 for Gaussian Naive Bayes:\n",
    "Accuracy Score: 0.77\n",
    "Precision: 0.77\n",
    "Recall: 0.76\n",
    "F-score: 0.77"
   ]
  }
 ],
 "metadata": {
  "kernelspec": {
   "display_name": "Python 3 (ipykernel)",
   "language": "python",
   "name": "python3"
  },
  "language_info": {
   "codemirror_mode": {
    "name": "ipython",
    "version": 3
   },
   "file_extension": ".py",
   "mimetype": "text/x-python",
   "name": "python",
   "nbconvert_exporter": "python",
   "pygments_lexer": "ipython3",
   "version": "3.9.7"
  }
 },
 "nbformat": 4,
 "nbformat_minor": 5
}
